{
 "cells": [
  {
   "cell_type": "markdown",
   "metadata": {},
   "source": [
    "# Spark activity 4"
   ]
  },
  {
   "cell_type": "code",
   "execution_count": 3,
   "metadata": {},
   "outputs": [
    {
     "name": "stdout",
     "output_type": "stream",
     "text": [
      "+---+---------+----------+--------+--------+---------+---------+------+\n",
      "| id|firstName|middleName|lastName|dob_year|dob_month|   salary|gender|\n",
      "+---+---------+----------+--------+--------+---------+---------+------+\n",
      "|  1|    James|   Madison|   Smith|    1980|        1|  10000.0|     M|\n",
      "|  2|     Rose|      NULL|   Tyler|    1990|        6|  10000.0|     M|\n",
      "|  3|     Lily|      NULL|   Pichu|    1989|       11|1000000.0|     F|\n",
      "+---+---------+----------+--------+--------+---------+---------+------+\n",
      "\n"
     ]
    }
   ],
   "source": [
    "import findspark\n",
    "from pyspark.sql import SparkSession\n",
    "from pyspark.sql.functions import *\n",
    "import xml.etree.ElementTree as ET\n",
    "\n",
    "# Initialize spark driver\n",
    "findspark.init()\n",
    "spark = SparkSession.builder.master(\"local\").appName(\"FSTExample\").getOrCreate()\n",
    "\n",
    "# TO read the whole XML file as a single string \n",
    "file_rdd = spark.read.text('persons.xml', wholetext=True).rdd\n",
    "\n",
    "# Function to parse the file and extract data\n",
    "ELEMENTS_TO_EXTRACT = ['firstname', 'middlename', 'lastname', 'dob_year', 'dob_month', 'salary', 'gender']\n",
    "def parse_xml(rdd):\n",
    "    \"\"\"\n",
    "    This function is used to read an xml string from rdd, parse and extract the elements,\n",
    "    then return a list of lists.\n",
    "    \"\"\"\n",
    "    results = []\n",
    "    root = ET.fromstring(rdd[0])\n",
    "\n",
    "    for p in root.findall('person'):\n",
    "        rec = []\n",
    "        rec.append(p.attrib['id'])\n",
    "\n",
    "        for e in ELEMENTS_TO_EXTRACT:\n",
    "            if p.find(e) is None:\n",
    "                rec.append(None)\n",
    "                continue\n",
    "            value = p.find(e).text\n",
    "            if e == 'salary':\n",
    "                value = float(value)\n",
    "            rec.append(value)\n",
    "        results.append(rec)\n",
    "    return results\n",
    "  \n",
    "# To view the data frame\n",
    "records_rdd = file_rdd.flatMap(parse_xml)\n",
    "persons = records_rdd.toDF((\"id\", \"firstName\", \"middleName\", \"lastName\", \"dob_year\", \"dob_month\", \"salary\", \"gender\"))\n",
    "persons.show()"
   ]
  }
 ],
 "metadata": {
  "kernelspec": {
   "display_name": "Python 3",
   "language": "python",
   "name": "python3"
  },
  "language_info": {
   "codemirror_mode": {
    "name": "ipython",
    "version": 3
   },
   "file_extension": ".py",
   "mimetype": "text/x-python",
   "name": "python",
   "nbconvert_exporter": "python",
   "pygments_lexer": "ipython3",
   "version": "3.11.8"
  }
 },
 "nbformat": 4,
 "nbformat_minor": 2
}
