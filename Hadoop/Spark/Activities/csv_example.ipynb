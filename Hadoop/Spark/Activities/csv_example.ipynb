{
 "cells": [
  {
   "cell_type": "markdown",
   "metadata": {},
   "source": [
    "# Spark activity 2"
   ]
  },
  {
   "cell_type": "code",
   "execution_count": 2,
   "metadata": {},
   "outputs": [
    {
     "name": "stdout",
     "output_type": "stream",
     "text": [
      "+--------------------+--------------------+---------+\n",
      "|               Title|               Genre|Metascore|\n",
      "+--------------------+--------------------+---------+\n",
      "|             Gravity|Drama,Sci-Fi,Thri...|       96|\n",
      "|    Zero Dark Thirty|Drama,History,Thr...|       95|\n",
      "|    Megan Is Missing|Drama,Horror,Thri...|       94|\n",
      "|     The Hurt Locker|Drama,History,Thr...|       94|\n",
      "|No Country for Ol...|Crime,Drama,Thriller|       91|\n",
      "|                Elle|Crime,Drama,Thriller|       89|\n",
      "| The Lives of Others|      Drama,Thriller|       89|\n",
      "|  Hell or High Water|Crime,Drama,Thriller|       88|\n",
      "|        The Departed|Crime,Drama,Thriller|       85|\n",
      "|The Bourne Ultimatum|Action,Mystery,Th...|       85|\n",
      "|Tinker Tailor Sol...|Drama,Mystery,Thr...|       85|\n",
      "|     Children of Men|Drama,Sci-Fi,Thri...|       84|\n",
      "|    Captain Phillips|Biography,Drama,T...|       83|\n",
      "|The Siege of Jado...|Action,Drama,Thri...|       83|\n",
      "|             Skyfall|Action,Adventure,...|       81|\n",
      "|     Bridge of Spies|Drama,History,Thr...|       81|\n",
      "|          District 9|Action,Sci-Fi,Thr...|       81|\n",
      "|       Casino Royale|Action,Adventure,...|       80|\n",
      "|     The Survivalist|Drama,Sci-Fi,Thri...|       80|\n",
      "|          Black Swan|      Drama,Thriller|       79|\n",
      "+--------------------+--------------------+---------+\n",
      "only showing top 20 rows\n",
      "\n"
     ]
    }
   ],
   "source": [
    "import findspark\n",
    "from pyspark.sql import SparkSession\n",
    "from pyspark.sql.functions import *\n",
    "\n",
    "# Initialize spark driver\n",
    "findspark.init()\n",
    "spark = SparkSession.builder.master(\"local\").appName(\"FSTExample\").getOrCreate()\n",
    "\n",
    "# Find all Thriller movies with a Metascore greater than 75\n",
    "inputFile = spark.read.option(\"header\", True).csv(\"movies.csv\")\n",
    "inputFile.select(\"Title\", \"Genre\", \"Metascore\").filter((\"Metascore > 75 and Genre like '%Thriller%'\")).sort(desc(\"Metascore\")).show()"
   ]
  },
  {
   "cell_type": "markdown",
   "metadata": {},
   "source": [
    "# Spark activity 2"
   ]
  }
 ],
 "metadata": {
  "kernelspec": {
   "display_name": "Python 3",
   "language": "python",
   "name": "python3"
  },
  "language_info": {
   "codemirror_mode": {
    "name": "ipython",
    "version": 3
   },
   "file_extension": ".py",
   "mimetype": "text/x-python",
   "name": "python",
   "nbconvert_exporter": "python",
   "pygments_lexer": "ipython3",
   "version": "3.11.8"
  }
 },
 "nbformat": 4,
 "nbformat_minor": 2
}
