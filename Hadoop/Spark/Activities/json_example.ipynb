{
 "cells": [
  {
   "cell_type": "code",
   "execution_count": 2,
   "metadata": {},
   "outputs": [
    {
     "name": "stdout",
     "output_type": "stream",
     "text": [
      "+-----+-----+\n",
      "|State|count|\n",
      "+-----+-----+\n",
      "|   PR|    6|\n",
      "|   FL|    4|\n",
      "|   NC|    3|\n",
      "|   AL|    3|\n",
      "|   TX|    3|\n",
      "|   AZ|    2|\n",
      "+-----+-----+\n",
      "\n"
     ]
    }
   ],
   "source": [
    "# To perform aggregate operations\n",
    "zc.groupBy('State').count().orderBy('count', ascending=False).show()"
   ]
  },
  {
   "cell_type": "code",
   "execution_count": 4,
   "metadata": {},
   "outputs": [
    {
     "name": "stdout",
     "output_type": "stream",
     "text": [
      "+------------+-------+-----------+-------------------+-----+-------+-----------+-------------+\n",
      "|RecordNumber|Zipcode|ZipCodeType|               City|State|Country|WorldRegion|Decommisioned|\n",
      "+------------+-------+-----------+-------------------+-----+-------+-----------+-------------+\n",
      "|           1|    704|   STANDARD|        PARC PARQUE|   PR|     US|         NA|        false|\n",
      "|           2|    704|   STANDARD|PASEO COSTA DEL SUR|   PR|     US|         NA|        false|\n",
      "|           4|    704|   STANDARD|    URB EUGENE RICE|   PR|     US|         NA|        false|\n",
      "|           3|    704|   STANDARD|      SECT LANAUSSE|   PR|     US|         NA|        false|\n",
      "|          10|    708|   STANDARD|       BDA SAN LUIS|   PR|     US|         NA|        false|\n",
      "|          10|    709|   STANDARD|       BDA SAN LUIS|   PR|     US|         NA|        false|\n",
      "|       76511|  27007|   STANDARD|           ASH HILL|   NC|     US|         NA|        false|\n",
      "|       76512|  27203|   STANDARD|           ASHEBORO|   NC|     US|         NA|        false|\n",
      "|       76513|  27204|     PO BOX|           ASHEBORO|   NC|     US|         NA|        false|\n",
      "|       49345|  32046|   STANDARD|           HILLIARD|   FL|     US|         NA|        false|\n",
      "|       49347|  32564|   STANDARD|               HOLT|   FL|     US|         NA|        false|\n",
      "|       49346|  34445|     PO BOX|             HOLDER|   FL|     US|         NA|        false|\n",
      "|       49348|  34487|     PO BOX|          HOMOSASSA|   FL|     US|         NA|        false|\n",
      "|       54355|  35146|   STANDARD|        SPRINGVILLE|   AL|     US|         NA|        false|\n",
      "|       54356|  35585|   STANDARD|        SPRUCE PINE|   AL|     US|         NA|        false|\n",
      "|       54354|  36275|     PO BOX|      SPRING GARDEN|   AL|     US|         NA|        false|\n",
      "|       61391|  76166|     UNIQUE|  CINGULAR WIRELESS|   TX|     US|         NA|        false|\n",
      "|       61392|  76177|   STANDARD|         FORT WORTH|   TX|     US|         NA|        false|\n",
      "|       61393|  76177|   STANDARD|           FT WORTH|   TX|     US|         NA|        false|\n",
      "|       39827|  85209|   STANDARD|               MESA|   AZ|     US|         NA|        false|\n",
      "+------------+-------+-----------+-------------------+-----+-------+-----------+-------------+\n",
      "only showing top 20 rows\n",
      "\n"
     ]
    }
   ],
   "source": [
    "# To sort data\n",
    "zc.orderBy(df.Zipcode.asc()).show()\n"
   ]
  },
  {
   "cell_type": "code",
   "execution_count": 5,
   "metadata": {},
   "outputs": [
    {
     "name": "stdout",
     "output_type": "stream",
     "text": [
      "+------------+-------+-----------+-------------------+-----+-------+-----------+-------------+\n",
      "|RecordNumber|Zipcode|ZipCodeType|               City|State|Country|WorldRegion|Decommisioned|\n",
      "+------------+-------+-----------+-------------------+-----+-------+-----------+-------------+\n",
      "|           1|    704|   STANDARD|        PARC PARQUE|   PR|     US|         NA|        false|\n",
      "|           2|    704|   STANDARD|PASEO COSTA DEL SUR|   PR|     US|         NA|        false|\n",
      "|          10|    709|   STANDARD|       BDA SAN LUIS|   PR|     US|         NA|        false|\n",
      "|       61391|  76166|     UNIQUE|  CINGULAR WIRELESS|   TX|     US|         NA|        false|\n",
      "|       61392|  76177|   STANDARD|         FORT WORTH|   TX|     US|         NA|        false|\n",
      "|       61393|  76177|   STANDARD|           FT WORTH|   TX|     US|         NA|        false|\n",
      "|           4|    704|   STANDARD|    URB EUGENE RICE|   PR|     US|         NA|        false|\n",
      "|          10|    708|   STANDARD|       BDA SAN LUIS|   PR|     US|         NA|        false|\n",
      "|           3|    704|   STANDARD|      SECT LANAUSSE|   PR|     US|         NA|        false|\n",
      "+------------+-------+-----------+-------------------+-----+-------+-----------+-------------+\n",
      "\n",
      "+------------+-------+-----------+------------+-----+-------+-----------+-------------+\n",
      "|RecordNumber|Zipcode|ZipCodeType|        City|State|Country|WorldRegion|Decommisioned|\n",
      "+------------+-------+-----------+------------+-----+-------+-----------+-------------+\n",
      "|          10|    709|   STANDARD|BDA SAN LUIS|   PR|     US|         NA|        false|\n",
      "+------------+-------+-----------+------------+-----+-------+-----------+-------------+\n",
      "\n"
     ]
    }
   ],
   "source": [
    "# To filter records\n",
    "zc.filter((df.State == 'PR') | (df.State == 'TX')).show()\n",
    "zc.filter((df.State == 'PR') & (df.Zipcode == 709)).show()"
   ]
  },
  {
   "cell_type": "markdown",
   "metadata": {},
   "source": [
    "# Spark Activity 3"
   ]
  },
  {
   "cell_type": "code",
   "execution_count": 1,
   "metadata": {},
   "outputs": [
    {
     "name": "stdout",
     "output_type": "stream",
     "text": [
      "root\n",
      " |-- City: string (nullable = true)\n",
      " |-- Country: string (nullable = true)\n",
      " |-- Decommisioned: boolean (nullable = true)\n",
      " |-- RecordNumber: long (nullable = true)\n",
      " |-- State: string (nullable = true)\n",
      " |-- WorldRegion: string (nullable = true)\n",
      " |-- ZipCodeType: string (nullable = true)\n",
      " |-- Zipcode: long (nullable = true)\n",
      "\n",
      "+------------+-------+-----------+-------------------+-----+-------+-----------+-------------+\n",
      "|RecordNumber|Zipcode|ZipCodeType|               City|State|Country|WorldRegion|Decommisioned|\n",
      "+------------+-------+-----------+-------------------+-----+-------+-----------+-------------+\n",
      "|           1|    704|   STANDARD|        PARC PARQUE|   PR|     US|         NA|        false|\n",
      "|           2|    704|   STANDARD|PASEO COSTA DEL SUR|   PR|     US|         NA|        false|\n",
      "|          10|    709|   STANDARD|       BDA SAN LUIS|   PR|     US|         NA|        false|\n",
      "|       61391|  76166|     UNIQUE|  CINGULAR WIRELESS|   TX|     US|         NA|        false|\n",
      "|       61392|  76177|   STANDARD|         FORT WORTH|   TX|     US|         NA|        false|\n",
      "|       61393|  76177|   STANDARD|           FT WORTH|   TX|     US|         NA|        false|\n",
      "|           4|    704|   STANDARD|    URB EUGENE RICE|   PR|     US|         NA|        false|\n",
      "|       39827|  85209|   STANDARD|               MESA|   AZ|     US|         NA|        false|\n",
      "|       39828|  85210|   STANDARD|               MESA|   AZ|     US|         NA|        false|\n",
      "|       49345|  32046|   STANDARD|           HILLIARD|   FL|     US|         NA|        false|\n",
      "|       49346|  34445|     PO BOX|             HOLDER|   FL|     US|         NA|        false|\n",
      "|       49347|  32564|   STANDARD|               HOLT|   FL|     US|         NA|        false|\n",
      "|       49348|  34487|     PO BOX|          HOMOSASSA|   FL|     US|         NA|        false|\n",
      "|          10|    708|   STANDARD|       BDA SAN LUIS|   PR|     US|         NA|        false|\n",
      "|           3|    704|   STANDARD|      SECT LANAUSSE|   PR|     US|         NA|        false|\n",
      "|       54354|  36275|     PO BOX|      SPRING GARDEN|   AL|     US|         NA|        false|\n",
      "|       54355|  35146|   STANDARD|        SPRINGVILLE|   AL|     US|         NA|        false|\n",
      "|       54356|  35585|   STANDARD|        SPRUCE PINE|   AL|     US|         NA|        false|\n",
      "|       76511|  27007|   STANDARD|           ASH HILL|   NC|     US|         NA|        false|\n",
      "|       76512|  27203|   STANDARD|           ASHEBORO|   NC|     US|         NA|        false|\n",
      "+------------+-------+-----------+-------------------+-----+-------+-----------+-------------+\n",
      "only showing top 20 rows\n",
      "\n",
      "+------------+-------+-----------+-------------------+-----+-------+-----------+-------------+\n",
      "|RecordNumber|Zipcode|ZipCodeType|               City|State|Country|WorldRegion|Decommisioned|\n",
      "+------------+-------+-----------+-------------------+-----+-------+-----------+-------------+\n",
      "|           1|    704|   STANDARD|        PARC PARQUE|   PR|     US|         NA|        false|\n",
      "|           2|    704|   STANDARD|PASEO COSTA DEL SUR|   PR|     US|         NA|        false|\n",
      "|          10|    709|   STANDARD|       BDA SAN LUIS|   PR|     US|         NA|        false|\n",
      "|       61391|  76166|     UNIQUE|  CINGULAR WIRELESS|   TX|     US|         NA|        false|\n",
      "|       61392|  76177|   STANDARD|         FORT WORTH|   TX|     US|         NA|        false|\n",
      "|       61393|  76177|   STANDARD|           FT WORTH|   TX|     US|         NA|        false|\n",
      "|           4|    704|   STANDARD|    URB EUGENE RICE|   PR|     US|         NA|        false|\n",
      "|          10|    708|   STANDARD|       BDA SAN LUIS|   PR|     US|         NA|        false|\n",
      "|           3|    704|   STANDARD|      SECT LANAUSSE|   PR|     US|         NA|        false|\n",
      "+------------+-------+-----------+-------------------+-----+-------+-----------+-------------+\n",
      "\n",
      "+------------+-------+-----------+------------+-----+-------+-----------+-------------+\n",
      "|RecordNumber|Zipcode|ZipCodeType|        City|State|Country|WorldRegion|Decommisioned|\n",
      "+------------+-------+-----------+------------+-----+-------+-----------+-------------+\n",
      "|          10|    709|   STANDARD|BDA SAN LUIS|   PR|     US|         NA|        false|\n",
      "+------------+-------+-----------+------------+-----+-------+-----------+-------------+\n",
      "\n",
      "+------------+-------+-----------+-------------------+-----+-------+-----------+-------------+\n",
      "|RecordNumber|Zipcode|ZipCodeType|               City|State|Country|WorldRegion|Decommisioned|\n",
      "+------------+-------+-----------+-------------------+-----+-------+-----------+-------------+\n",
      "|           1|    704|   STANDARD|        PARC PARQUE|   PR|     US|         NA|        false|\n",
      "|           2|    704|   STANDARD|PASEO COSTA DEL SUR|   PR|     US|         NA|        false|\n",
      "|           4|    704|   STANDARD|    URB EUGENE RICE|   PR|     US|         NA|        false|\n",
      "|           3|    704|   STANDARD|      SECT LANAUSSE|   PR|     US|         NA|        false|\n",
      "|          10|    708|   STANDARD|       BDA SAN LUIS|   PR|     US|         NA|        false|\n",
      "|          10|    709|   STANDARD|       BDA SAN LUIS|   PR|     US|         NA|        false|\n",
      "|       76511|  27007|   STANDARD|           ASH HILL|   NC|     US|         NA|        false|\n",
      "|       76512|  27203|   STANDARD|           ASHEBORO|   NC|     US|         NA|        false|\n",
      "|       76513|  27204|     PO BOX|           ASHEBORO|   NC|     US|         NA|        false|\n",
      "|       49345|  32046|   STANDARD|           HILLIARD|   FL|     US|         NA|        false|\n",
      "|       49347|  32564|   STANDARD|               HOLT|   FL|     US|         NA|        false|\n",
      "|       49346|  34445|     PO BOX|             HOLDER|   FL|     US|         NA|        false|\n",
      "|       49348|  34487|     PO BOX|          HOMOSASSA|   FL|     US|         NA|        false|\n",
      "|       54355|  35146|   STANDARD|        SPRINGVILLE|   AL|     US|         NA|        false|\n",
      "|       54356|  35585|   STANDARD|        SPRUCE PINE|   AL|     US|         NA|        false|\n",
      "|       54354|  36275|     PO BOX|      SPRING GARDEN|   AL|     US|         NA|        false|\n",
      "|       61391|  76166|     UNIQUE|  CINGULAR WIRELESS|   TX|     US|         NA|        false|\n",
      "|       61392|  76177|   STANDARD|         FORT WORTH|   TX|     US|         NA|        false|\n",
      "|       61393|  76177|   STANDARD|           FT WORTH|   TX|     US|         NA|        false|\n",
      "|       39827|  85209|   STANDARD|               MESA|   AZ|     US|         NA|        false|\n",
      "+------------+-------+-----------+-------------------+-----+-------+-----------+-------------+\n",
      "only showing top 20 rows\n",
      "\n",
      "+-----+-----+\n",
      "|State|count|\n",
      "+-----+-----+\n",
      "|   PR|    6|\n",
      "|   FL|    4|\n",
      "|   NC|    3|\n",
      "|   AL|    3|\n",
      "|   TX|    3|\n",
      "|   AZ|    2|\n",
      "+-----+-----+\n",
      "\n"
     ]
    }
   ],
   "source": [
    "import findspark\n",
    "from pyspark.sql import SparkSession\n",
    "from pyspark.sql.functions import *\n",
    "\n",
    "# Initialize spark driver\n",
    "findspark.init()\n",
    "spark = SparkSession.builder.master(\"local\").appName(\"FSTExample\").getOrCreate()\n",
    "\n",
    "# To display the schema of the dataframe\n",
    "df = spark.read.option('multiline', 'true').json('zipcodes.json')\n",
    "df.printSchema()\n",
    "\n",
    "# To select data from the table\n",
    "zc = df.select(df.RecordNumber, df.Zipcode, df.ZipCodeType, df.City, df.State, df.Country, df.WorldRegion, df.Decommisioned)\n",
    "zc.show()\n"
   ]
  }
 ],
 "metadata": {
  "kernelspec": {
   "display_name": "Python 3",
   "language": "python",
   "name": "python3"
  },
  "language_info": {
   "codemirror_mode": {
    "name": "ipython",
    "version": 3
   },
   "file_extension": ".py",
   "mimetype": "text/x-python",
   "name": "python",
   "nbconvert_exporter": "python",
   "pygments_lexer": "ipython3",
   "version": "3.11.8"
  }
 },
 "nbformat": 4,
 "nbformat_minor": 2
}
